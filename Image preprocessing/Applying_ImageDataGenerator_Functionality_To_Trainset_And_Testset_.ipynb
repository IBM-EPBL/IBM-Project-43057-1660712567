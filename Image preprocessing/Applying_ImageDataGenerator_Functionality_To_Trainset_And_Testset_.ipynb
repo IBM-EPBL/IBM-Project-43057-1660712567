{
  "nbformat": 4,
  "nbformat_minor": 0,
  "metadata": {
    "colab": {
      "provenance": []
    },
    "kernelspec": {
      "name": "python3",
      "display_name": "Python 3"
    },
    "language_info": {
      "name": "python"
    }
  },
  "cells": [
    {
      "cell_type": "markdown",
      "source": [
        "importing Required libraries"
      ],
      "metadata": {
        "id": "789dsCRIxmtq"
      }
    },
    {
      "cell_type": "code",
      "execution_count": 1,
      "metadata": {
        "id": "xEP21GEYxRM4"
      },
      "outputs": [],
      "source": [
        "import keras\n",
        "from keras.preprocessing.image import ImageDataGenerator"
      ]
    },
    {
      "cell_type": "markdown",
      "source": [
        "Define parameters and arguments for ImageDataGenerator"
      ],
      "metadata": {
        "id": "rOtc2IDjz60u"
      }
    },
    {
      "cell_type": "code",
      "source": [
        "train_datagen=ImageDataGenerator(rescale=1./255,\n",
        "                                 shear_range=0.2,\n",
        "                                 rotation_range=180,\n",
        "                                 zoom_range=0.2,\n",
        "                                 horizontal_flip=True)\n",
        "test_datagen=ImageDataGenerator(rescale=1./255)"
      ],
      "metadata": {
        "id": "YvHmkvql0PbY"
      },
      "execution_count": 2,
      "outputs": []
    },
    {
      "cell_type": "code",
      "source": [
        "from google.colab import drive\n",
        "drive.mount('/content/drive')"
      ],
      "metadata": {
        "colab": {
          "base_uri": "https://localhost:8080/"
        },
        "id": "jOdsmxCL115A",
        "outputId": "9ee56608-65fc-4d67-9b9e-49f3d371140e"
      },
      "execution_count": 5,
      "outputs": [
        {
          "output_type": "stream",
          "name": "stdout",
          "text": [
            "Drive already mounted at /content/drive; to attempt to forcibly remount, call drive.mount(\"/content/drive\", force_remount=True).\n"
          ]
        }
      ]
    },
    {
      "cell_type": "markdown",
      "source": [
        "Applying ImageDataGenerator"
      ],
      "metadata": {
        "id": "sWGoJa1B0z4M"
      }
    },
    {
      "cell_type": "code",
      "source": [
        "x_test = test_datagen.flow_from_directory(r'/content/drive/MyDrive/archive (1)/Dataset/Dataset/test_set',\n",
        "                                          target_size=(128,128),\n",
        "                                          batch_size=32,\n",
        "                                          class_mode='binary')"
      ],
      "metadata": {
        "id": "Z3wuJDus44iq"
      },
      "execution_count": null,
      "outputs": []
    },
    {
      "cell_type": "code",
      "source": [
        "x_test = test_datagen.flow_from_directory(r'/content/drive/MyDrive/archive (1)/Dataset/Dataset/test_set',\n",
        "                                          target_size=(128,128),\n",
        "                                          batch_size=32,\n",
        "                                          class_mode='binary')"
      ],
      "metadata": {
        "id": "yzpnAW7Q4-VC"
      },
      "execution_count": null,
      "outputs": []
    }
  ]
}